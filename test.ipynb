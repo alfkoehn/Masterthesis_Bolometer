{
 "cells": [
  {
   "cell_type": "code",
   "execution_count": 2,
   "metadata": {},
   "outputs": [],
   "source": [
    "import numpy as np"
   ]
  },
  {
   "cell_type": "code",
   "execution_count": 25,
   "metadata": {},
   "outputs": [
    {
     "name": "stdout",
     "output_type": "stream",
     "text": [
      "[[1.  0. ]\n",
      " [2.  1. ]\n",
      " [2.3 1. ]\n",
      " [2.4 2. ]\n",
      " [3.  2. ]\n",
      " [3.5 2. ]\n",
      " [4.  1. ]\n",
      " [5.  0. ]]\n"
     ]
    }
   ],
   "source": [
    "\n",
    "# Import Library\n",
    "\n",
    "import matplotlib.pyplot as plt\n",
    "\n",
    "x=np.array([[1,0],[2,1],[3,2],[4,1], [5,0]])\n",
    "y=np.array([[2.3,1],[2.4,2],[3.5,2]])\n",
    "z= np.concatenate((x,y), axis=0)\n",
    "z2=z[z[:,0].argsort()]\n",
    "print(z2)"
   ]
  }
 ],
 "metadata": {
  "kernelspec": {
   "display_name": "Python 3.8.10 64-bit",
   "language": "python",
   "name": "python3"
  },
  "language_info": {
   "codemirror_mode": {
    "name": "ipython",
    "version": 3
   },
   "file_extension": ".py",
   "mimetype": "text/x-python",
   "name": "python",
   "nbconvert_exporter": "python",
   "pygments_lexer": "ipython3",
   "version": "3.8.10"
  },
  "orig_nbformat": 4,
  "vscode": {
   "interpreter": {
    "hash": "31f2aee4e71d21fbe5cf8b01ff0e069b9275f58929596ceb00d14d90e3e16cd6"
   }
  }
 },
 "nbformat": 4,
 "nbformat_minor": 2
}
